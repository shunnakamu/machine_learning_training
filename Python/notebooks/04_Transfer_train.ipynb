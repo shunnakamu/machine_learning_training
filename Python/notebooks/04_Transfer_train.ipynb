{
 "cells": [
  {
   "cell_type": "code",
   "execution_count": null,
   "metadata": {
    "collapsed": true
   },
   "outputs": [],
   "source": [
    "%matplotlib inline\n",
    "#!/usr/bin/env python\n",
    "# -*- coding: utf-8 -*-\n",
    "\n",
    "import matplotlib.pyplot as plt\n",
    "from sklearn import datasets\n",
    "from sklearn.cluster import KMeans\n",
    "from sklearn.decomposition import PCA"
   ]
  },
  {
   "cell_type": "code",
   "execution_count": null,
   "metadata": {},
   "outputs": [],
   "source": [
    "# load data_set\n",
    "iris = datasets.load_iris()\n",
    "\n",
    "# reduce dimension by PCA\n",
    "iris_pca = PCA(n_components=2).fit(iris.data).transform(iris.data)"
   ]
  },
  {
   "cell_type": "code",
   "execution_count": null,
   "metadata": {},
   "outputs": [],
   "source": [
    "# clustering for all data\n",
    "k_means_list = []\n",
    "for i in range(3):\n",
    "    k_means_list.append(KMeans(n_clusters=3, random_state=i).fit(iris.data))"
   ]
  },
  {
   "cell_type": "code",
   "execution_count": null,
   "metadata": {},
   "outputs": [],
   "source": [
    "# plot real class\n",
    "fig, axes = plt.subplots(ncols=2, nrows=2, figsize=(20, 16))\n",
    "axes[0, 0].set_title(\"Real class\", fontsize=40)\n",
    "axes[0, 0].scatter(iris_pca[:, 0], iris_pca[:, 1], c=iris.target, s=80)\n",
    "\n",
    "# plot clustered class\n",
    "for i, ax in enumerate([axes[0, 1], axes[1, 0], axes[1, 1]]):\n",
    "    ax.set_title(\"K-means cluster (%d)\" % i, fontsize=40)\n",
    "    ax.scatter(iris_pca[:, 0], iris_pca[:, 1], c=k_means_list[i].labels_, s=80)"
   ]
  },
  {
   "cell_type": "code",
   "execution_count": null,
   "metadata": {},
   "outputs": [],
   "source": [
    "# k-means for 5 clusters\n",
    "k_means = KMeans(n_clusters=5).fit(iris.data)\n",
    "fig, (axL, axR) = plt.subplots(ncols=2, figsize=(20, 8))\n",
    "axL.set_title(\"Real class\", fontsize=40)\n",
    "axL.scatter(iris_pca[:, 0], iris_pca[:, 1], c=iris.target, s=80)\n",
    "\n",
    "axR.set_title(\"K-means cluster\", fontsize=40)\n",
    "axR.scatter(iris_pca[:, 0], iris_pca[:, 1], c=k_means.labels_, s=80)"
   ]
  }
 ],
 "metadata": {
  "kernelspec": {
   "display_name": "Python 2",
   "language": "python",
   "name": "python2"
  },
  "language_info": {
   "codemirror_mode": {
    "name": "ipython",
    "version": 2
   },
   "file_extension": ".py",
   "mimetype": "text/x-python",
   "name": "python",
   "nbconvert_exporter": "python",
   "pygments_lexer": "ipython2",
   "version": "2.7.6"
  }
 },
 "nbformat": 4,
 "nbformat_minor": 0
}
