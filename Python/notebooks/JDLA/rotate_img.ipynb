{
  "nbformat": 4,
  "nbformat_minor": 0,
  "metadata": {
    "colab": {
      "provenance": [],
      "collapsed_sections": []
    },
    "kernelspec": {
      "name": "python3",
      "display_name": "Python 3"
    },
    "language_info": {
      "name": "python"
    },
    "widgets": {
      "application/vnd.jupyter.widget-state+json": {
        "560eb0370f5e4ad7b3f309b010a42309": {
          "model_module": "@jupyter-widgets/controls",
          "model_name": "HBoxModel",
          "model_module_version": "1.5.0",
          "state": {
            "_dom_classes": [],
            "_model_module": "@jupyter-widgets/controls",
            "_model_module_version": "1.5.0",
            "_model_name": "HBoxModel",
            "_view_count": null,
            "_view_module": "@jupyter-widgets/controls",
            "_view_module_version": "1.5.0",
            "_view_name": "HBoxView",
            "box_style": "",
            "children": [
              "IPY_MODEL_10f99d7e67a14103b3d7fe9f2598e3f8",
              "IPY_MODEL_7b8c815047c04e8aaac43e8ba6ead76c",
              "IPY_MODEL_5b2434401a0e4b4f8697e7acd853056c"
            ],
            "layout": "IPY_MODEL_8cee4d779cb548d885a16cf72a6c0d6a"
          }
        },
        "10f99d7e67a14103b3d7fe9f2598e3f8": {
          "model_module": "@jupyter-widgets/controls",
          "model_name": "HTMLModel",
          "model_module_version": "1.5.0",
          "state": {
            "_dom_classes": [],
            "_model_module": "@jupyter-widgets/controls",
            "_model_module_version": "1.5.0",
            "_model_name": "HTMLModel",
            "_view_count": null,
            "_view_module": "@jupyter-widgets/controls",
            "_view_module_version": "1.5.0",
            "_view_name": "HTMLView",
            "description": "",
            "description_tooltip": null,
            "layout": "IPY_MODEL_7d66cd8380ba438e83df554742344b24",
            "placeholder": "​",
            "style": "IPY_MODEL_e6dd69276edc48f08090bbf6481af3d5",
            "value": "100%"
          }
        },
        "7b8c815047c04e8aaac43e8ba6ead76c": {
          "model_module": "@jupyter-widgets/controls",
          "model_name": "FloatProgressModel",
          "model_module_version": "1.5.0",
          "state": {
            "_dom_classes": [],
            "_model_module": "@jupyter-widgets/controls",
            "_model_module_version": "1.5.0",
            "_model_name": "FloatProgressModel",
            "_view_count": null,
            "_view_module": "@jupyter-widgets/controls",
            "_view_module_version": "1.5.0",
            "_view_name": "ProgressView",
            "bar_style": "success",
            "description": "",
            "description_tooltip": null,
            "layout": "IPY_MODEL_0bdaf895e68d4cb6846358a1b922f5e1",
            "max": 17,
            "min": 0,
            "orientation": "horizontal",
            "style": "IPY_MODEL_470f5949e8ac452bba4ab93e436ac826",
            "value": 17
          }
        },
        "5b2434401a0e4b4f8697e7acd853056c": {
          "model_module": "@jupyter-widgets/controls",
          "model_name": "HTMLModel",
          "model_module_version": "1.5.0",
          "state": {
            "_dom_classes": [],
            "_model_module": "@jupyter-widgets/controls",
            "_model_module_version": "1.5.0",
            "_model_name": "HTMLModel",
            "_view_count": null,
            "_view_module": "@jupyter-widgets/controls",
            "_view_module_version": "1.5.0",
            "_view_name": "HTMLView",
            "description": "",
            "description_tooltip": null,
            "layout": "IPY_MODEL_8e1066890048437dbc4ae80b7608c1b6",
            "placeholder": "​",
            "style": "IPY_MODEL_a6e368fdcb0e41c9a7a9d8d192ffc3bc",
            "value": " 17/17 [00:11&lt;00:00,  1.47it/s]"
          }
        },
        "8cee4d779cb548d885a16cf72a6c0d6a": {
          "model_module": "@jupyter-widgets/base",
          "model_name": "LayoutModel",
          "model_module_version": "1.2.0",
          "state": {
            "_model_module": "@jupyter-widgets/base",
            "_model_module_version": "1.2.0",
            "_model_name": "LayoutModel",
            "_view_count": null,
            "_view_module": "@jupyter-widgets/base",
            "_view_module_version": "1.2.0",
            "_view_name": "LayoutView",
            "align_content": null,
            "align_items": null,
            "align_self": null,
            "border": null,
            "bottom": null,
            "display": null,
            "flex": null,
            "flex_flow": null,
            "grid_area": null,
            "grid_auto_columns": null,
            "grid_auto_flow": null,
            "grid_auto_rows": null,
            "grid_column": null,
            "grid_gap": null,
            "grid_row": null,
            "grid_template_areas": null,
            "grid_template_columns": null,
            "grid_template_rows": null,
            "height": null,
            "justify_content": null,
            "justify_items": null,
            "left": null,
            "margin": null,
            "max_height": null,
            "max_width": null,
            "min_height": null,
            "min_width": null,
            "object_fit": null,
            "object_position": null,
            "order": null,
            "overflow": null,
            "overflow_x": null,
            "overflow_y": null,
            "padding": null,
            "right": null,
            "top": null,
            "visibility": null,
            "width": null
          }
        },
        "7d66cd8380ba438e83df554742344b24": {
          "model_module": "@jupyter-widgets/base",
          "model_name": "LayoutModel",
          "model_module_version": "1.2.0",
          "state": {
            "_model_module": "@jupyter-widgets/base",
            "_model_module_version": "1.2.0",
            "_model_name": "LayoutModel",
            "_view_count": null,
            "_view_module": "@jupyter-widgets/base",
            "_view_module_version": "1.2.0",
            "_view_name": "LayoutView",
            "align_content": null,
            "align_items": null,
            "align_self": null,
            "border": null,
            "bottom": null,
            "display": null,
            "flex": null,
            "flex_flow": null,
            "grid_area": null,
            "grid_auto_columns": null,
            "grid_auto_flow": null,
            "grid_auto_rows": null,
            "grid_column": null,
            "grid_gap": null,
            "grid_row": null,
            "grid_template_areas": null,
            "grid_template_columns": null,
            "grid_template_rows": null,
            "height": null,
            "justify_content": null,
            "justify_items": null,
            "left": null,
            "margin": null,
            "max_height": null,
            "max_width": null,
            "min_height": null,
            "min_width": null,
            "object_fit": null,
            "object_position": null,
            "order": null,
            "overflow": null,
            "overflow_x": null,
            "overflow_y": null,
            "padding": null,
            "right": null,
            "top": null,
            "visibility": null,
            "width": null
          }
        },
        "e6dd69276edc48f08090bbf6481af3d5": {
          "model_module": "@jupyter-widgets/controls",
          "model_name": "DescriptionStyleModel",
          "model_module_version": "1.5.0",
          "state": {
            "_model_module": "@jupyter-widgets/controls",
            "_model_module_version": "1.5.0",
            "_model_name": "DescriptionStyleModel",
            "_view_count": null,
            "_view_module": "@jupyter-widgets/base",
            "_view_module_version": "1.2.0",
            "_view_name": "StyleView",
            "description_width": ""
          }
        },
        "0bdaf895e68d4cb6846358a1b922f5e1": {
          "model_module": "@jupyter-widgets/base",
          "model_name": "LayoutModel",
          "model_module_version": "1.2.0",
          "state": {
            "_model_module": "@jupyter-widgets/base",
            "_model_module_version": "1.2.0",
            "_model_name": "LayoutModel",
            "_view_count": null,
            "_view_module": "@jupyter-widgets/base",
            "_view_module_version": "1.2.0",
            "_view_name": "LayoutView",
            "align_content": null,
            "align_items": null,
            "align_self": null,
            "border": null,
            "bottom": null,
            "display": null,
            "flex": null,
            "flex_flow": null,
            "grid_area": null,
            "grid_auto_columns": null,
            "grid_auto_flow": null,
            "grid_auto_rows": null,
            "grid_column": null,
            "grid_gap": null,
            "grid_row": null,
            "grid_template_areas": null,
            "grid_template_columns": null,
            "grid_template_rows": null,
            "height": null,
            "justify_content": null,
            "justify_items": null,
            "left": null,
            "margin": null,
            "max_height": null,
            "max_width": null,
            "min_height": null,
            "min_width": null,
            "object_fit": null,
            "object_position": null,
            "order": null,
            "overflow": null,
            "overflow_x": null,
            "overflow_y": null,
            "padding": null,
            "right": null,
            "top": null,
            "visibility": null,
            "width": null
          }
        },
        "470f5949e8ac452bba4ab93e436ac826": {
          "model_module": "@jupyter-widgets/controls",
          "model_name": "ProgressStyleModel",
          "model_module_version": "1.5.0",
          "state": {
            "_model_module": "@jupyter-widgets/controls",
            "_model_module_version": "1.5.0",
            "_model_name": "ProgressStyleModel",
            "_view_count": null,
            "_view_module": "@jupyter-widgets/base",
            "_view_module_version": "1.2.0",
            "_view_name": "StyleView",
            "bar_color": null,
            "description_width": ""
          }
        },
        "8e1066890048437dbc4ae80b7608c1b6": {
          "model_module": "@jupyter-widgets/base",
          "model_name": "LayoutModel",
          "model_module_version": "1.2.0",
          "state": {
            "_model_module": "@jupyter-widgets/base",
            "_model_module_version": "1.2.0",
            "_model_name": "LayoutModel",
            "_view_count": null,
            "_view_module": "@jupyter-widgets/base",
            "_view_module_version": "1.2.0",
            "_view_name": "LayoutView",
            "align_content": null,
            "align_items": null,
            "align_self": null,
            "border": null,
            "bottom": null,
            "display": null,
            "flex": null,
            "flex_flow": null,
            "grid_area": null,
            "grid_auto_columns": null,
            "grid_auto_flow": null,
            "grid_auto_rows": null,
            "grid_column": null,
            "grid_gap": null,
            "grid_row": null,
            "grid_template_areas": null,
            "grid_template_columns": null,
            "grid_template_rows": null,
            "height": null,
            "justify_content": null,
            "justify_items": null,
            "left": null,
            "margin": null,
            "max_height": null,
            "max_width": null,
            "min_height": null,
            "min_width": null,
            "object_fit": null,
            "object_position": null,
            "order": null,
            "overflow": null,
            "overflow_x": null,
            "overflow_y": null,
            "padding": null,
            "right": null,
            "top": null,
            "visibility": null,
            "width": null
          }
        },
        "a6e368fdcb0e41c9a7a9d8d192ffc3bc": {
          "model_module": "@jupyter-widgets/controls",
          "model_name": "DescriptionStyleModel",
          "model_module_version": "1.5.0",
          "state": {
            "_model_module": "@jupyter-widgets/controls",
            "_model_module_version": "1.5.0",
            "_model_name": "DescriptionStyleModel",
            "_view_count": null,
            "_view_module": "@jupyter-widgets/base",
            "_view_module_version": "1.2.0",
            "_view_name": "StyleView",
            "description_width": ""
          }
        }
      }
    }
  },
  "cells": [
    {
      "cell_type": "markdown",
      "source": [
        "iPhoneで撮影した画像用"
      ],
      "metadata": {
        "id": "a58Ui5N-dvu9"
      }
    },
    {
      "cell_type": "code",
      "source": [
        "!mkdir iPhone"
      ],
      "metadata": {
        "id": "CQ-0T9w9D0aE"
      },
      "execution_count": 1,
      "outputs": []
    },
    {
      "cell_type": "code",
      "execution_count": 3,
      "metadata": {
        "colab": {
          "base_uri": "https://localhost:8080/",
          "height": 49,
          "referenced_widgets": [
            "560eb0370f5e4ad7b3f309b010a42309",
            "10f99d7e67a14103b3d7fe9f2598e3f8",
            "7b8c815047c04e8aaac43e8ba6ead76c",
            "5b2434401a0e4b4f8697e7acd853056c",
            "8cee4d779cb548d885a16cf72a6c0d6a",
            "7d66cd8380ba438e83df554742344b24",
            "e6dd69276edc48f08090bbf6481af3d5",
            "0bdaf895e68d4cb6846358a1b922f5e1",
            "470f5949e8ac452bba4ab93e436ac826",
            "8e1066890048437dbc4ae80b7608c1b6",
            "a6e368fdcb0e41c9a7a9d8d192ffc3bc"
          ]
        },
        "id": "EEy13swRcHXg",
        "outputId": "cc63ef96-d836-4863-fd48-580a497b592d"
      },
      "outputs": [
        {
          "output_type": "display_data",
          "data": {
            "text/plain": [
              "  0%|          | 0/17 [00:00<?, ?it/s]"
            ],
            "application/vnd.jupyter.widget-view+json": {
              "version_major": 2,
              "version_minor": 0,
              "model_id": "560eb0370f5e4ad7b3f309b010a42309"
            }
          },
          "metadata": {}
        }
      ],
      "source": [
        "from pathlib import Path\n",
        "from PIL import Image\n",
        "from tqdm.notebook import tqdm\n",
        "\n",
        "save_to = 'save_to'\n",
        "save_to_dir = Path(save_to)\n",
        "save_to_dir.mkdir(exist_ok=True)\n",
        "img_list = list(Path('/content/iPhone').glob('*'))\n",
        "resize_scale = 4\n",
        "\n",
        "for i, img_path in enumerate(tqdm(img_list)):\n",
        "    im = Image.open(img_path)\n",
        "    new_path = save_to_dir / f\"{i}.png\"\n",
        "    rotated_im = im.transpose(Image.ROTATE_270)\n",
        "    img_resize = rotated_im.resize((rotated_im.width // resize_scale, rotated_im.height // resize_scale))\n",
        "    img_resize.save(new_path)"
      ]
    },
    {
      "cell_type": "code",
      "source": [
        "!zip -r rotated_img.zip save_to"
      ],
      "metadata": {
        "colab": {
          "base_uri": "https://localhost:8080/"
        },
        "id": "XuSlIyhJf0iy",
        "outputId": "6b0dc752-6cc3-4d3f-f7c7-e485aaa8af7d"
      },
      "execution_count": null,
      "outputs": [
        {
          "output_type": "stream",
          "name": "stdout",
          "text": [
            "  adding: save_to/ (stored 0%)\n",
            "  adding: save_to/3.png (deflated 0%)\n",
            "  adding: save_to/9.png (deflated 1%)\n",
            "  adding: save_to/1.png (deflated 1%)\n",
            "  adding: save_to/11.png (deflated 0%)\n",
            "  adding: save_to/10.png (deflated 0%)\n",
            "  adding: save_to/16.png (deflated 0%)\n",
            "  adding: save_to/6.png (deflated 0%)\n",
            "  adding: save_to/15.png (deflated 0%)\n",
            "  adding: save_to/7.png (deflated 1%)\n",
            "  adding: save_to/0.png (deflated 0%)\n",
            "  adding: save_to/4.png (deflated 1%)\n",
            "  adding: save_to/8.png (deflated 0%)\n",
            "  adding: save_to/13.png (deflated 0%)\n",
            "  adding: save_to/2.png (deflated 1%)\n",
            "  adding: save_to/5.png (deflated 1%)\n",
            "  adding: save_to/12.png (deflated 0%)\n",
            "  adding: save_to/14.png (deflated 0%)\n"
          ]
        }
      ]
    }
  ]
}