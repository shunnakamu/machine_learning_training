{
 "cells": [
  {
   "cell_type": "code",
   "execution_count": 23,
   "metadata": {},
   "outputs": [],
   "source": [
    "%matplotlib inline\n",
    "import numpy as np\n",
    "import pandas as pd\n",
    "from sklearn import datasets\n",
    "from sklearn.linear_model import LinearRegression\n",
    "from sklearn.model_selection import train_test_split"
   ]
  },
  {
   "cell_type": "code",
   "execution_count": 24,
   "metadata": {},
   "outputs": [],
   "source": [
    "# load data_set\n",
    "boston = datasets.load_boston()\n",
    "\n",
    "# split into train and test data\n",
    "x_train, x_test, y_train, y_test = train_test_split(boston.data, boston.target, test_size=0.2)"
   ]
  },
  {
   "cell_type": "code",
   "execution_count": 25,
   "metadata": {},
   "outputs": [
    {
     "data": {
      "text/plain": [
       "LinearRegression()"
      ]
     },
     "execution_count": 25,
     "metadata": {},
     "output_type": "execute_result"
    }
   ],
   "source": [
    "# regression for train data\n",
    "linear_regression_model = LinearRegression()\n",
    "linear_regression_model.fit(x_train, y_train)"
   ]
  },
  {
   "cell_type": "code",
   "execution_count": 27,
   "metadata": {},
   "outputs": [
    {
     "name": "stdout",
     "output_type": "stream",
     "text": [
      "\n",
      "coefficients  : [-8.02922419e-02  5.07016405e-02 -1.88872706e-03  2.74146361e+00\n",
      " -1.58302106e+01  3.54254174e+00  5.12051507e-03 -1.49822520e+00\n",
      "  3.12570408e-01 -1.22377671e-02 -9.22349905e-01  1.02238391e-02\n",
      " -5.91547374e-01]\n",
      "feature_names : ['CRIM' 'ZN' 'INDUS' 'CHAS' 'NOX' 'RM' 'AGE' 'DIS' 'RAD' 'TAX' 'PTRATIO'\n",
      " 'B' 'LSTAT']\n",
      "intercept     : 36.88783837926282\n",
      "\n"
     ]
    }
   ],
   "source": [
    "# print coefficients\n",
    "\n",
    "print(f\"\"\"\n",
    "coefficients  : {linear_regression_model.coef_}\n",
    "feature_names : {boston.feature_names}\n",
    "intercept     : {linear_regression_model.intercept_}\n",
    "\"\"\")"
   ]
  },
  {
   "cell_type": "code",
   "execution_count": null,
   "metadata": {},
   "outputs": [],
   "source": [
    "# get average  error\n",
    "average_error = np.mean(abs(linear_regression_model.predict(x_test) - y_test))\n",
    "print(f\"average error is {average_error}\")"
   ]
  }
 ],
 "metadata": {
  "kernelspec": {
   "display_name": "Python 3",
   "language": "python",
   "name": "python3"
  },
  "language_info": {
   "codemirror_mode": {
    "name": "ipython",
    "version": 3
   },
   "file_extension": ".py",
   "mimetype": "text/x-python",
   "name": "python",
   "nbconvert_exporter": "python",
   "pygments_lexer": "ipython3",
   "version": "3.8.5"
  }
 },
 "nbformat": 4,
 "nbformat_minor": 1
}